{
 "cells": [
  {
   "cell_type": "markdown",
   "id": "1217b3cb-95da-4025-b4f0-caf7ccfab669",
   "metadata": {},
   "source": [
    "# World Happiness EDA"
   ]
  },
  {
   "cell_type": "markdown",
   "id": "8479e518-ea45-428d-b466-f6387d54a5e5",
   "metadata": {},
   "source": [
    "## Imports"
   ]
  },
  {
   "cell_type": "code",
   "execution_count": 3,
   "id": "6a20341b-de2a-4a58-990b-b3473c3c77b6",
   "metadata": {},
   "outputs": [],
   "source": [
    "import pandas as pd\n",
    "import seaborn as sns\n",
    "import matplotlib.pyplot as plt\n",
    "import warnings\n",
    "warnings.filterwarnings('ignore')"
   ]
  },
  {
   "cell_type": "markdown",
   "id": "877cc63b-ea9f-456e-8aeb-f6f1ecb379a5",
   "metadata": {},
   "source": [
    "## Load the data"
   ]
  },
  {
   "cell_type": "code",
   "execution_count": 4,
   "id": "eec961e0-3572-4150-bae0-fae72f4bb795",
   "metadata": {},
   "outputs": [],
   "source": [
    "happiness_2015 = pd.read_csv(\"../data/2015.csv\")\n",
    "happiness_2016 = pd.read_csv(\"../data/2016.csv\")\n",
    "happiness_2017 = pd.read_csv(\"../data/2017.csv\")\n",
    "happiness_2018 = pd.read_csv(\"../data/2018.csv\")\n",
    "happiness_2019 = pd.read_csv(\"../data/2019.csv\")"
   ]
  },
  {
   "cell_type": "markdown",
   "id": "1cfa1c76-9e83-4f0b-af80-a896145a8267",
   "metadata": {},
   "source": [
    "## Initial exploring"
   ]
  },
  {
   "cell_type": "markdown",
   "id": "25759a2b-8c31-43ff-9512-c5b5188fa176",
   "metadata": {},
   "source": [
    "### 2015"
   ]
  },
  {
   "cell_type": "markdown",
   "id": "c3bd7de7-9633-41db-b02f-adf9ccb4e530",
   "metadata": {},
   "source": [
    "**Display the first few rows of the DataFrame**"
   ]
  },
  {
   "cell_type": "code",
   "execution_count": 57,
   "id": "8e572cfc-5df9-48db-b138-f1b36a2493cd",
   "metadata": {},
   "outputs": [
    {
     "data": {
      "text/html": [
       "<div>\n",
       "<style scoped>\n",
       "    .dataframe tbody tr th:only-of-type {\n",
       "        vertical-align: middle;\n",
       "    }\n",
       "\n",
       "    .dataframe tbody tr th {\n",
       "        vertical-align: top;\n",
       "    }\n",
       "\n",
       "    .dataframe thead th {\n",
       "        text-align: right;\n",
       "    }\n",
       "</style>\n",
       "<table border=\"1\" class=\"dataframe\">\n",
       "  <thead>\n",
       "    <tr style=\"text-align: right;\">\n",
       "      <th></th>\n",
       "      <th>Country</th>\n",
       "      <th>Region</th>\n",
       "      <th>Happiness Rank</th>\n",
       "      <th>Happiness Score</th>\n",
       "      <th>Standard Error</th>\n",
       "      <th>Economy (GDP per Capita)</th>\n",
       "      <th>Family</th>\n",
       "      <th>Health (Life Expectancy)</th>\n",
       "      <th>Freedom</th>\n",
       "      <th>Trust (Government Corruption)</th>\n",
       "      <th>Generosity</th>\n",
       "      <th>Dystopia Residual</th>\n",
       "    </tr>\n",
       "  </thead>\n",
       "  <tbody>\n",
       "    <tr>\n",
       "      <th>0</th>\n",
       "      <td>Switzerland</td>\n",
       "      <td>Western Europe</td>\n",
       "      <td>1</td>\n",
       "      <td>7.587</td>\n",
       "      <td>0.03411</td>\n",
       "      <td>1.39651</td>\n",
       "      <td>1.34951</td>\n",
       "      <td>0.94143</td>\n",
       "      <td>0.66557</td>\n",
       "      <td>0.41978</td>\n",
       "      <td>0.29678</td>\n",
       "      <td>2.51738</td>\n",
       "    </tr>\n",
       "    <tr>\n",
       "      <th>1</th>\n",
       "      <td>Iceland</td>\n",
       "      <td>Western Europe</td>\n",
       "      <td>2</td>\n",
       "      <td>7.561</td>\n",
       "      <td>0.04884</td>\n",
       "      <td>1.30232</td>\n",
       "      <td>1.40223</td>\n",
       "      <td>0.94784</td>\n",
       "      <td>0.62877</td>\n",
       "      <td>0.14145</td>\n",
       "      <td>0.43630</td>\n",
       "      <td>2.70201</td>\n",
       "    </tr>\n",
       "    <tr>\n",
       "      <th>2</th>\n",
       "      <td>Denmark</td>\n",
       "      <td>Western Europe</td>\n",
       "      <td>3</td>\n",
       "      <td>7.527</td>\n",
       "      <td>0.03328</td>\n",
       "      <td>1.32548</td>\n",
       "      <td>1.36058</td>\n",
       "      <td>0.87464</td>\n",
       "      <td>0.64938</td>\n",
       "      <td>0.48357</td>\n",
       "      <td>0.34139</td>\n",
       "      <td>2.49204</td>\n",
       "    </tr>\n",
       "  </tbody>\n",
       "</table>\n",
       "</div>"
      ],
      "text/plain": [
       "       Country          Region  Happiness Rank  Happiness Score  \\\n",
       "0  Switzerland  Western Europe               1            7.587   \n",
       "1      Iceland  Western Europe               2            7.561   \n",
       "2      Denmark  Western Europe               3            7.527   \n",
       "\n",
       "   Standard Error  Economy (GDP per Capita)   Family  \\\n",
       "0         0.03411                   1.39651  1.34951   \n",
       "1         0.04884                   1.30232  1.40223   \n",
       "2         0.03328                   1.32548  1.36058   \n",
       "\n",
       "   Health (Life Expectancy)  Freedom  Trust (Government Corruption)  \\\n",
       "0                   0.94143  0.66557                        0.41978   \n",
       "1                   0.94784  0.62877                        0.14145   \n",
       "2                   0.87464  0.64938                        0.48357   \n",
       "\n",
       "   Generosity  Dystopia Residual  \n",
       "0     0.29678            2.51738  \n",
       "1     0.43630            2.70201  \n",
       "2     0.34139            2.49204  "
      ]
     },
     "execution_count": 57,
     "metadata": {},
     "output_type": "execute_result"
    }
   ],
   "source": [
    "happiness_2015.head(3)"
   ]
  },
  {
   "cell_type": "markdown",
   "id": "6b5501f3-56f5-43f4-a1fe-46279ee15276",
   "metadata": {},
   "source": [
    "**Check the shape of the DataFrame**"
   ]
  },
  {
   "cell_type": "code",
   "execution_count": 58,
   "id": "0c65fe1c-8219-46c1-b76b-2f5d49e2b30e",
   "metadata": {},
   "outputs": [
    {
     "data": {
      "text/plain": [
       "(158, 12)"
      ]
     },
     "execution_count": 58,
     "metadata": {},
     "output_type": "execute_result"
    }
   ],
   "source": [
    "happiness_2015.shape"
   ]
  },
  {
   "cell_type": "markdown",
   "id": "ee71f718-bd84-4f2a-a2c9-1d58602545bd",
   "metadata": {},
   "source": [
    "Indicating that there is information for 158 countries, and each country is represented by a row in the dataset. The dataset has 12 columns, each providing specific information about those countries."
   ]
  },
  {
   "cell_type": "markdown",
   "id": "bf908f90-6fa0-4580-8554-41cbc9e53710",
   "metadata": {},
   "source": [
    "**Exploring Data Types**"
   ]
  },
  {
   "cell_type": "code",
   "execution_count": 60,
   "id": "4f1d6a94-3802-4e0a-bc92-7933f373374a",
   "metadata": {},
   "outputs": [
    {
     "name": "stdout",
     "output_type": "stream",
     "text": [
      "<class 'pandas.core.frame.DataFrame'>\n",
      "RangeIndex: 158 entries, 0 to 157\n",
      "Data columns (total 12 columns):\n",
      " #   Column                         Non-Null Count  Dtype  \n",
      "---  ------                         --------------  -----  \n",
      " 0   Country                        158 non-null    object \n",
      " 1   Region                         158 non-null    object \n",
      " 2   Happiness Rank                 158 non-null    int64  \n",
      " 3   Happiness Score                158 non-null    float64\n",
      " 4   Standard Error                 158 non-null    float64\n",
      " 5   Economy (GDP per Capita)       158 non-null    float64\n",
      " 6   Family                         158 non-null    float64\n",
      " 7   Health (Life Expectancy)       158 non-null    float64\n",
      " 8   Freedom                        158 non-null    float64\n",
      " 9   Trust (Government Corruption)  158 non-null    float64\n",
      " 10  Generosity                     158 non-null    float64\n",
      " 11  Dystopia Residual              158 non-null    float64\n",
      "dtypes: float64(9), int64(1), object(2)\n",
      "memory usage: 14.9+ KB\n"
     ]
    }
   ],
   "source": [
    "happiness_2015.info()"
   ]
  },
  {
   "cell_type": "markdown",
   "id": "033a7f45-e44e-4e69-8514-857ac6219791",
   "metadata": {},
   "source": [
    "**Investigating null values**"
   ]
  },
  {
   "cell_type": "code",
   "execution_count": 61,
   "id": "5686992a-bb7e-4763-b2b0-fc0db5c53677",
   "metadata": {},
   "outputs": [
    {
     "data": {
      "text/plain": [
       "Country                          0\n",
       "Region                           0\n",
       "Happiness Rank                   0\n",
       "Happiness Score                  0\n",
       "Standard Error                   0\n",
       "Economy (GDP per Capita)         0\n",
       "Family                           0\n",
       "Health (Life Expectancy)         0\n",
       "Freedom                          0\n",
       "Trust (Government Corruption)    0\n",
       "Generosity                       0\n",
       "Dystopia Residual                0\n",
       "dtype: int64"
      ]
     },
     "execution_count": 61,
     "metadata": {},
     "output_type": "execute_result"
    }
   ],
   "source": [
    "happiness_2015.isnull().sum()"
   ]
  },
  {
   "cell_type": "markdown",
   "id": "9307f755-c98f-4014-a210-c9d0e87228bd",
   "metadata": {},
   "source": [
    "### 2016"
   ]
  },
  {
   "cell_type": "markdown",
   "id": "b55e53d3-2352-49dc-bde1-d163c35bbea0",
   "metadata": {},
   "source": [
    "**Display the first few rows of the DataFrame**"
   ]
  },
  {
   "cell_type": "code",
   "execution_count": 62,
   "id": "0f0b7f37-ad36-41eb-8807-fca9ab18c2d0",
   "metadata": {},
   "outputs": [
    {
     "data": {
      "text/html": [
       "<div>\n",
       "<style scoped>\n",
       "    .dataframe tbody tr th:only-of-type {\n",
       "        vertical-align: middle;\n",
       "    }\n",
       "\n",
       "    .dataframe tbody tr th {\n",
       "        vertical-align: top;\n",
       "    }\n",
       "\n",
       "    .dataframe thead th {\n",
       "        text-align: right;\n",
       "    }\n",
       "</style>\n",
       "<table border=\"1\" class=\"dataframe\">\n",
       "  <thead>\n",
       "    <tr style=\"text-align: right;\">\n",
       "      <th></th>\n",
       "      <th>Country</th>\n",
       "      <th>Region</th>\n",
       "      <th>Happiness Rank</th>\n",
       "      <th>Happiness Score</th>\n",
       "      <th>Lower Confidence Interval</th>\n",
       "      <th>Upper Confidence Interval</th>\n",
       "      <th>Economy (GDP per Capita)</th>\n",
       "      <th>Family</th>\n",
       "      <th>Health (Life Expectancy)</th>\n",
       "      <th>Freedom</th>\n",
       "      <th>Trust (Government Corruption)</th>\n",
       "      <th>Generosity</th>\n",
       "      <th>Dystopia Residual</th>\n",
       "    </tr>\n",
       "  </thead>\n",
       "  <tbody>\n",
       "    <tr>\n",
       "      <th>0</th>\n",
       "      <td>Denmark</td>\n",
       "      <td>Western Europe</td>\n",
       "      <td>1</td>\n",
       "      <td>7.526</td>\n",
       "      <td>7.460</td>\n",
       "      <td>7.592</td>\n",
       "      <td>1.44178</td>\n",
       "      <td>1.16374</td>\n",
       "      <td>0.79504</td>\n",
       "      <td>0.57941</td>\n",
       "      <td>0.44453</td>\n",
       "      <td>0.36171</td>\n",
       "      <td>2.73939</td>\n",
       "    </tr>\n",
       "    <tr>\n",
       "      <th>1</th>\n",
       "      <td>Switzerland</td>\n",
       "      <td>Western Europe</td>\n",
       "      <td>2</td>\n",
       "      <td>7.509</td>\n",
       "      <td>7.428</td>\n",
       "      <td>7.590</td>\n",
       "      <td>1.52733</td>\n",
       "      <td>1.14524</td>\n",
       "      <td>0.86303</td>\n",
       "      <td>0.58557</td>\n",
       "      <td>0.41203</td>\n",
       "      <td>0.28083</td>\n",
       "      <td>2.69463</td>\n",
       "    </tr>\n",
       "    <tr>\n",
       "      <th>2</th>\n",
       "      <td>Iceland</td>\n",
       "      <td>Western Europe</td>\n",
       "      <td>3</td>\n",
       "      <td>7.501</td>\n",
       "      <td>7.333</td>\n",
       "      <td>7.669</td>\n",
       "      <td>1.42666</td>\n",
       "      <td>1.18326</td>\n",
       "      <td>0.86733</td>\n",
       "      <td>0.56624</td>\n",
       "      <td>0.14975</td>\n",
       "      <td>0.47678</td>\n",
       "      <td>2.83137</td>\n",
       "    </tr>\n",
       "  </tbody>\n",
       "</table>\n",
       "</div>"
      ],
      "text/plain": [
       "       Country          Region  Happiness Rank  Happiness Score  \\\n",
       "0      Denmark  Western Europe               1            7.526   \n",
       "1  Switzerland  Western Europe               2            7.509   \n",
       "2      Iceland  Western Europe               3            7.501   \n",
       "\n",
       "   Lower Confidence Interval  Upper Confidence Interval  \\\n",
       "0                      7.460                      7.592   \n",
       "1                      7.428                      7.590   \n",
       "2                      7.333                      7.669   \n",
       "\n",
       "   Economy (GDP per Capita)   Family  Health (Life Expectancy)  Freedom  \\\n",
       "0                   1.44178  1.16374                   0.79504  0.57941   \n",
       "1                   1.52733  1.14524                   0.86303  0.58557   \n",
       "2                   1.42666  1.18326                   0.86733  0.56624   \n",
       "\n",
       "   Trust (Government Corruption)  Generosity  Dystopia Residual  \n",
       "0                        0.44453     0.36171            2.73939  \n",
       "1                        0.41203     0.28083            2.69463  \n",
       "2                        0.14975     0.47678            2.83137  "
      ]
     },
     "execution_count": 62,
     "metadata": {},
     "output_type": "execute_result"
    }
   ],
   "source": [
    "happiness_2016.head(3)"
   ]
  },
  {
   "cell_type": "markdown",
   "id": "c3a88cb8-c3b7-4242-9896-b33c1792ff35",
   "metadata": {},
   "source": [
    "**Check the shape of the DataFrame**"
   ]
  },
  {
   "cell_type": "code",
   "execution_count": 63,
   "id": "7031e00b-783d-4498-9858-3fd196767867",
   "metadata": {},
   "outputs": [
    {
     "data": {
      "text/plain": [
       "(157, 13)"
      ]
     },
     "execution_count": 63,
     "metadata": {},
     "output_type": "execute_result"
    }
   ],
   "source": [
    "happiness_2016.shape"
   ]
  },
  {
   "cell_type": "markdown",
   "id": "8bce4fbf-8aed-4f85-ada5-3903a9b8456e",
   "metadata": {},
   "source": [
    "Indicating that there is information for 157 countries, and each country is represented by a row in the dataset. The dataset has 13 columns, each providing specific information about those countries."
   ]
  },
  {
   "cell_type": "markdown",
   "id": "a5c585d5-4146-42e4-8e18-383c4ec4eac4",
   "metadata": {},
   "source": [
    "**Exploring Data Types**"
   ]
  },
  {
   "cell_type": "code",
   "execution_count": 64,
   "id": "ace64334-2c06-47e1-bcf3-82315ded522d",
   "metadata": {},
   "outputs": [
    {
     "name": "stdout",
     "output_type": "stream",
     "text": [
      "<class 'pandas.core.frame.DataFrame'>\n",
      "RangeIndex: 157 entries, 0 to 156\n",
      "Data columns (total 13 columns):\n",
      " #   Column                         Non-Null Count  Dtype  \n",
      "---  ------                         --------------  -----  \n",
      " 0   Country                        157 non-null    object \n",
      " 1   Region                         157 non-null    object \n",
      " 2   Happiness Rank                 157 non-null    int64  \n",
      " 3   Happiness Score                157 non-null    float64\n",
      " 4   Lower Confidence Interval      157 non-null    float64\n",
      " 5   Upper Confidence Interval      157 non-null    float64\n",
      " 6   Economy (GDP per Capita)       157 non-null    float64\n",
      " 7   Family                         157 non-null    float64\n",
      " 8   Health (Life Expectancy)       157 non-null    float64\n",
      " 9   Freedom                        157 non-null    float64\n",
      " 10  Trust (Government Corruption)  157 non-null    float64\n",
      " 11  Generosity                     157 non-null    float64\n",
      " 12  Dystopia Residual              157 non-null    float64\n",
      "dtypes: float64(10), int64(1), object(2)\n",
      "memory usage: 16.1+ KB\n"
     ]
    }
   ],
   "source": [
    "happiness_2016.info()"
   ]
  },
  {
   "cell_type": "markdown",
   "id": "56fdf779-a5af-43a4-98f7-c7b414ddd310",
   "metadata": {},
   "source": [
    "**Investigating null values**"
   ]
  },
  {
   "cell_type": "code",
   "execution_count": 65,
   "id": "3bec9407-7bf4-40de-941f-17454fc06eef",
   "metadata": {},
   "outputs": [
    {
     "data": {
      "text/plain": [
       "Country                          0\n",
       "Region                           0\n",
       "Happiness Rank                   0\n",
       "Happiness Score                  0\n",
       "Lower Confidence Interval        0\n",
       "Upper Confidence Interval        0\n",
       "Economy (GDP per Capita)         0\n",
       "Family                           0\n",
       "Health (Life Expectancy)         0\n",
       "Freedom                          0\n",
       "Trust (Government Corruption)    0\n",
       "Generosity                       0\n",
       "Dystopia Residual                0\n",
       "dtype: int64"
      ]
     },
     "execution_count": 65,
     "metadata": {},
     "output_type": "execute_result"
    }
   ],
   "source": [
    "happiness_2016.isnull().sum()"
   ]
  },
  {
   "cell_type": "markdown",
   "id": "877eda32-3e7b-4779-b955-779cbe2b131f",
   "metadata": {
    "jp-MarkdownHeadingCollapsed": true
   },
   "source": [
    "### 2017"
   ]
  },
  {
   "cell_type": "markdown",
   "id": "4e4d4478-5665-4164-9dff-2d667713abc2",
   "metadata": {},
   "source": [
    "**Display the first few rows of the DataFrame**"
   ]
  },
  {
   "cell_type": "code",
   "execution_count": 6,
   "id": "31282e26-c3ca-43dd-a4d2-290f31d345b5",
   "metadata": {},
   "outputs": [
    {
     "data": {
      "text/html": [
       "<div>\n",
       "<style scoped>\n",
       "    .dataframe tbody tr th:only-of-type {\n",
       "        vertical-align: middle;\n",
       "    }\n",
       "\n",
       "    .dataframe tbody tr th {\n",
       "        vertical-align: top;\n",
       "    }\n",
       "\n",
       "    .dataframe thead th {\n",
       "        text-align: right;\n",
       "    }\n",
       "</style>\n",
       "<table border=\"1\" class=\"dataframe\">\n",
       "  <thead>\n",
       "    <tr style=\"text-align: right;\">\n",
       "      <th></th>\n",
       "      <th>Country</th>\n",
       "      <th>Happiness.Rank</th>\n",
       "      <th>Happiness.Score</th>\n",
       "      <th>Whisker.high</th>\n",
       "      <th>Whisker.low</th>\n",
       "      <th>Economy..GDP.per.Capita.</th>\n",
       "      <th>Family</th>\n",
       "      <th>Health..Life.Expectancy.</th>\n",
       "      <th>Freedom</th>\n",
       "      <th>Generosity</th>\n",
       "      <th>Trust..Government.Corruption.</th>\n",
       "      <th>Dystopia.Residual</th>\n",
       "    </tr>\n",
       "  </thead>\n",
       "  <tbody>\n",
       "    <tr>\n",
       "      <th>0</th>\n",
       "      <td>Norway</td>\n",
       "      <td>1</td>\n",
       "      <td>7.537</td>\n",
       "      <td>7.594445</td>\n",
       "      <td>7.479556</td>\n",
       "      <td>1.616463</td>\n",
       "      <td>1.533524</td>\n",
       "      <td>0.796667</td>\n",
       "      <td>0.635423</td>\n",
       "      <td>0.362012</td>\n",
       "      <td>0.315964</td>\n",
       "      <td>2.277027</td>\n",
       "    </tr>\n",
       "    <tr>\n",
       "      <th>1</th>\n",
       "      <td>Denmark</td>\n",
       "      <td>2</td>\n",
       "      <td>7.522</td>\n",
       "      <td>7.581728</td>\n",
       "      <td>7.462272</td>\n",
       "      <td>1.482383</td>\n",
       "      <td>1.551122</td>\n",
       "      <td>0.792566</td>\n",
       "      <td>0.626007</td>\n",
       "      <td>0.355280</td>\n",
       "      <td>0.400770</td>\n",
       "      <td>2.313707</td>\n",
       "    </tr>\n",
       "    <tr>\n",
       "      <th>2</th>\n",
       "      <td>Iceland</td>\n",
       "      <td>3</td>\n",
       "      <td>7.504</td>\n",
       "      <td>7.622030</td>\n",
       "      <td>7.385970</td>\n",
       "      <td>1.480633</td>\n",
       "      <td>1.610574</td>\n",
       "      <td>0.833552</td>\n",
       "      <td>0.627163</td>\n",
       "      <td>0.475540</td>\n",
       "      <td>0.153527</td>\n",
       "      <td>2.322715</td>\n",
       "    </tr>\n",
       "  </tbody>\n",
       "</table>\n",
       "</div>"
      ],
      "text/plain": [
       "   Country  Happiness.Rank  Happiness.Score  Whisker.high  Whisker.low  \\\n",
       "0   Norway               1            7.537      7.594445     7.479556   \n",
       "1  Denmark               2            7.522      7.581728     7.462272   \n",
       "2  Iceland               3            7.504      7.622030     7.385970   \n",
       "\n",
       "   Economy..GDP.per.Capita.    Family  Health..Life.Expectancy.   Freedom  \\\n",
       "0                  1.616463  1.533524                  0.796667  0.635423   \n",
       "1                  1.482383  1.551122                  0.792566  0.626007   \n",
       "2                  1.480633  1.610574                  0.833552  0.627163   \n",
       "\n",
       "   Generosity  Trust..Government.Corruption.  Dystopia.Residual  \n",
       "0    0.362012                       0.315964           2.277027  \n",
       "1    0.355280                       0.400770           2.313707  \n",
       "2    0.475540                       0.153527           2.322715  "
      ]
     },
     "execution_count": 6,
     "metadata": {},
     "output_type": "execute_result"
    }
   ],
   "source": [
    "happiness_2017.head(3)"
   ]
  },
  {
   "cell_type": "markdown",
   "id": "5e25e7bd-573c-4f40-a19e-1a11d562bfea",
   "metadata": {},
   "source": [
    "**Check the shape of the DataFrame**"
   ]
  },
  {
   "cell_type": "code",
   "execution_count": 22,
   "id": "11092bc7-32ab-4f6d-9a61-95c9e367291d",
   "metadata": {},
   "outputs": [
    {
     "data": {
      "text/plain": [
       "(155, 12)"
      ]
     },
     "execution_count": 22,
     "metadata": {},
     "output_type": "execute_result"
    }
   ],
   "source": [
    "happiness_2017.shape"
   ]
  },
  {
   "cell_type": "markdown",
   "id": "cba256a3-d610-4ac4-8c8d-b27188efd2d2",
   "metadata": {},
   "source": [
    "**Exploring Data Types**"
   ]
  },
  {
   "cell_type": "code",
   "execution_count": 23,
   "id": "927c77ff-2141-4737-9d31-d5840a6c6564",
   "metadata": {},
   "outputs": [
    {
     "name": "stdout",
     "output_type": "stream",
     "text": [
      "<class 'pandas.core.frame.DataFrame'>\n",
      "RangeIndex: 155 entries, 0 to 154\n",
      "Data columns (total 12 columns):\n",
      " #   Column                         Non-Null Count  Dtype  \n",
      "---  ------                         --------------  -----  \n",
      " 0   Country                        155 non-null    object \n",
      " 1   Happiness.Rank                 155 non-null    int64  \n",
      " 2   Happiness.Score                155 non-null    float64\n",
      " 3   Whisker.high                   155 non-null    float64\n",
      " 4   Whisker.low                    155 non-null    float64\n",
      " 5   Economy..GDP.per.Capita.       155 non-null    float64\n",
      " 6   Family                         155 non-null    float64\n",
      " 7   Health..Life.Expectancy.       155 non-null    float64\n",
      " 8   Freedom                        155 non-null    float64\n",
      " 9   Generosity                     155 non-null    float64\n",
      " 10  Trust..Government.Corruption.  155 non-null    float64\n",
      " 11  Dystopia.Residual              155 non-null    float64\n",
      "dtypes: float64(10), int64(1), object(1)\n",
      "memory usage: 14.7+ KB\n"
     ]
    }
   ],
   "source": [
    "happiness_2017.info()"
   ]
  },
  {
   "cell_type": "markdown",
   "id": "dbd143ab-4c10-482b-8818-6b575143164e",
   "metadata": {},
   "source": [
    "**Investigating null values**"
   ]
  },
  {
   "cell_type": "code",
   "execution_count": 8,
   "id": "2a17933d-b794-4824-b5a4-5688ab2581e9",
   "metadata": {},
   "outputs": [
    {
     "data": {
      "text/plain": [
       "Country                          0\n",
       "Happiness.Rank                   0\n",
       "Happiness.Score                  0\n",
       "Whisker.high                     0\n",
       "Whisker.low                      0\n",
       "Economy..GDP.per.Capita.         0\n",
       "Family                           0\n",
       "Health..Life.Expectancy.         0\n",
       "Freedom                          0\n",
       "Generosity                       0\n",
       "Trust..Government.Corruption.    0\n",
       "Dystopia.Residual                0\n",
       "dtype: int64"
      ]
     },
     "execution_count": 8,
     "metadata": {},
     "output_type": "execute_result"
    }
   ],
   "source": [
    "happiness_2017.isnull().sum()"
   ]
  },
  {
   "cell_type": "markdown",
   "id": "f5a743f4-31db-4d5f-9ac0-ed3aeac8595b",
   "metadata": {},
   "source": [
    "### 2018"
   ]
  },
  {
   "cell_type": "markdown",
   "id": "baab2a8f-fc1b-4214-bb75-6405a6e1b1dc",
   "metadata": {},
   "source": [
    "**Display the first few rows of the DataFrame**"
   ]
  },
  {
   "cell_type": "code",
   "execution_count": 9,
   "id": "2b238134-6041-46a0-8510-29003c281798",
   "metadata": {},
   "outputs": [
    {
     "data": {
      "text/html": [
       "<div>\n",
       "<style scoped>\n",
       "    .dataframe tbody tr th:only-of-type {\n",
       "        vertical-align: middle;\n",
       "    }\n",
       "\n",
       "    .dataframe tbody tr th {\n",
       "        vertical-align: top;\n",
       "    }\n",
       "\n",
       "    .dataframe thead th {\n",
       "        text-align: right;\n",
       "    }\n",
       "</style>\n",
       "<table border=\"1\" class=\"dataframe\">\n",
       "  <thead>\n",
       "    <tr style=\"text-align: right;\">\n",
       "      <th></th>\n",
       "      <th>Overall rank</th>\n",
       "      <th>Country or region</th>\n",
       "      <th>Score</th>\n",
       "      <th>GDP per capita</th>\n",
       "      <th>Social support</th>\n",
       "      <th>Healthy life expectancy</th>\n",
       "      <th>Freedom to make life choices</th>\n",
       "      <th>Generosity</th>\n",
       "      <th>Perceptions of corruption</th>\n",
       "    </tr>\n",
       "  </thead>\n",
       "  <tbody>\n",
       "    <tr>\n",
       "      <th>0</th>\n",
       "      <td>1</td>\n",
       "      <td>Finland</td>\n",
       "      <td>7.632</td>\n",
       "      <td>1.305</td>\n",
       "      <td>1.592</td>\n",
       "      <td>0.874</td>\n",
       "      <td>0.681</td>\n",
       "      <td>0.202</td>\n",
       "      <td>0.393</td>\n",
       "    </tr>\n",
       "    <tr>\n",
       "      <th>1</th>\n",
       "      <td>2</td>\n",
       "      <td>Norway</td>\n",
       "      <td>7.594</td>\n",
       "      <td>1.456</td>\n",
       "      <td>1.582</td>\n",
       "      <td>0.861</td>\n",
       "      <td>0.686</td>\n",
       "      <td>0.286</td>\n",
       "      <td>0.340</td>\n",
       "    </tr>\n",
       "    <tr>\n",
       "      <th>2</th>\n",
       "      <td>3</td>\n",
       "      <td>Denmark</td>\n",
       "      <td>7.555</td>\n",
       "      <td>1.351</td>\n",
       "      <td>1.590</td>\n",
       "      <td>0.868</td>\n",
       "      <td>0.683</td>\n",
       "      <td>0.284</td>\n",
       "      <td>0.408</td>\n",
       "    </tr>\n",
       "  </tbody>\n",
       "</table>\n",
       "</div>"
      ],
      "text/plain": [
       "   Overall rank Country or region  Score  GDP per capita  Social support  \\\n",
       "0             1           Finland  7.632           1.305           1.592   \n",
       "1             2            Norway  7.594           1.456           1.582   \n",
       "2             3           Denmark  7.555           1.351           1.590   \n",
       "\n",
       "   Healthy life expectancy  Freedom to make life choices  Generosity  \\\n",
       "0                    0.874                         0.681       0.202   \n",
       "1                    0.861                         0.686       0.286   \n",
       "2                    0.868                         0.683       0.284   \n",
       "\n",
       "   Perceptions of corruption  \n",
       "0                      0.393  \n",
       "1                      0.340  \n",
       "2                      0.408  "
      ]
     },
     "execution_count": 9,
     "metadata": {},
     "output_type": "execute_result"
    }
   ],
   "source": [
    "happiness_2018.head(3)"
   ]
  },
  {
   "cell_type": "markdown",
   "id": "2206abaf-8422-43e6-8eda-e63782d848cf",
   "metadata": {},
   "source": [
    "**Check the shape of the DataFrame**"
   ]
  },
  {
   "cell_type": "code",
   "execution_count": 10,
   "id": "f184b047-e664-402b-b5f4-69268e7a407e",
   "metadata": {},
   "outputs": [
    {
     "data": {
      "text/plain": [
       "(156, 9)"
      ]
     },
     "execution_count": 10,
     "metadata": {},
     "output_type": "execute_result"
    }
   ],
   "source": [
    "happiness_2018.shape"
   ]
  },
  {
   "cell_type": "markdown",
   "id": "d148774c-6b7e-4ede-ac5d-458fc2dda451",
   "metadata": {},
   "source": [
    "Indicating that there is information for 156 countries, and each country is represented by a row in the dataset. The dataset has 9 columns, each providing specific information about those countries."
   ]
  },
  {
   "cell_type": "markdown",
   "id": "0e5a5869-774a-4b30-9d7b-1bf38fa83da7",
   "metadata": {},
   "source": [
    "**Exploring Data Types**"
   ]
  },
  {
   "cell_type": "code",
   "execution_count": 11,
   "id": "63a198ba-e4ef-4d4d-a0d9-2abcce119b05",
   "metadata": {},
   "outputs": [
    {
     "name": "stdout",
     "output_type": "stream",
     "text": [
      "<class 'pandas.core.frame.DataFrame'>\n",
      "RangeIndex: 156 entries, 0 to 155\n",
      "Data columns (total 9 columns):\n",
      " #   Column                        Non-Null Count  Dtype  \n",
      "---  ------                        --------------  -----  \n",
      " 0   Overall rank                  156 non-null    int64  \n",
      " 1   Country or region             156 non-null    object \n",
      " 2   Score                         156 non-null    float64\n",
      " 3   GDP per capita                156 non-null    float64\n",
      " 4   Social support                156 non-null    float64\n",
      " 5   Healthy life expectancy       156 non-null    float64\n",
      " 6   Freedom to make life choices  156 non-null    float64\n",
      " 7   Generosity                    156 non-null    float64\n",
      " 8   Perceptions of corruption     155 non-null    float64\n",
      "dtypes: float64(7), int64(1), object(1)\n",
      "memory usage: 11.1+ KB\n"
     ]
    }
   ],
   "source": [
    "happiness_2018.info()"
   ]
  },
  {
   "cell_type": "markdown",
   "id": "d4805c20-68d7-4329-952c-d5a1c04e6a1d",
   "metadata": {},
   "source": [
    "**Investigating null values**"
   ]
  },
  {
   "cell_type": "code",
   "execution_count": 13,
   "id": "22f3ee69-999a-4fb1-99fe-99b06495a49c",
   "metadata": {},
   "outputs": [
    {
     "data": {
      "text/plain": [
       "Overall rank                    0\n",
       "Country or region               0\n",
       "Score                           0\n",
       "GDP per capita                  0\n",
       "Social support                  0\n",
       "Healthy life expectancy         0\n",
       "Freedom to make life choices    0\n",
       "Generosity                      0\n",
       "Perceptions of corruption       1\n",
       "dtype: int64"
      ]
     },
     "execution_count": 13,
     "metadata": {},
     "output_type": "execute_result"
    }
   ],
   "source": [
    "happiness_2018.isnull().sum()"
   ]
  },
  {
   "cell_type": "markdown",
   "id": "2d199422-774c-46b1-8a77-ba230cb6827f",
   "metadata": {},
   "source": [
    "This means there is one row where information about corruption perception is missing. "
   ]
  },
  {
   "cell_type": "markdown",
   "id": "becc919c-4852-44ff-835e-6b9614666fc9",
   "metadata": {},
   "source": [
    "### 2019"
   ]
  },
  {
   "cell_type": "markdown",
   "id": "d134590b-b687-4e90-8b4c-f89695cfaeb2",
   "metadata": {},
   "source": [
    "**Display the first few rows of the DataFrame**"
   ]
  },
  {
   "cell_type": "code",
   "execution_count": 14,
   "id": "d2f82161-202d-4500-97be-8a1d88449d9c",
   "metadata": {},
   "outputs": [
    {
     "data": {
      "text/html": [
       "<div>\n",
       "<style scoped>\n",
       "    .dataframe tbody tr th:only-of-type {\n",
       "        vertical-align: middle;\n",
       "    }\n",
       "\n",
       "    .dataframe tbody tr th {\n",
       "        vertical-align: top;\n",
       "    }\n",
       "\n",
       "    .dataframe thead th {\n",
       "        text-align: right;\n",
       "    }\n",
       "</style>\n",
       "<table border=\"1\" class=\"dataframe\">\n",
       "  <thead>\n",
       "    <tr style=\"text-align: right;\">\n",
       "      <th></th>\n",
       "      <th>Overall rank</th>\n",
       "      <th>Country or region</th>\n",
       "      <th>Score</th>\n",
       "      <th>GDP per capita</th>\n",
       "      <th>Social support</th>\n",
       "      <th>Healthy life expectancy</th>\n",
       "      <th>Freedom to make life choices</th>\n",
       "      <th>Generosity</th>\n",
       "      <th>Perceptions of corruption</th>\n",
       "    </tr>\n",
       "  </thead>\n",
       "  <tbody>\n",
       "    <tr>\n",
       "      <th>0</th>\n",
       "      <td>1</td>\n",
       "      <td>Finland</td>\n",
       "      <td>7.769</td>\n",
       "      <td>1.340</td>\n",
       "      <td>1.587</td>\n",
       "      <td>0.986</td>\n",
       "      <td>0.596</td>\n",
       "      <td>0.153</td>\n",
       "      <td>0.393</td>\n",
       "    </tr>\n",
       "    <tr>\n",
       "      <th>1</th>\n",
       "      <td>2</td>\n",
       "      <td>Denmark</td>\n",
       "      <td>7.600</td>\n",
       "      <td>1.383</td>\n",
       "      <td>1.573</td>\n",
       "      <td>0.996</td>\n",
       "      <td>0.592</td>\n",
       "      <td>0.252</td>\n",
       "      <td>0.410</td>\n",
       "    </tr>\n",
       "    <tr>\n",
       "      <th>2</th>\n",
       "      <td>3</td>\n",
       "      <td>Norway</td>\n",
       "      <td>7.554</td>\n",
       "      <td>1.488</td>\n",
       "      <td>1.582</td>\n",
       "      <td>1.028</td>\n",
       "      <td>0.603</td>\n",
       "      <td>0.271</td>\n",
       "      <td>0.341</td>\n",
       "    </tr>\n",
       "  </tbody>\n",
       "</table>\n",
       "</div>"
      ],
      "text/plain": [
       "   Overall rank Country or region  Score  GDP per capita  Social support  \\\n",
       "0             1           Finland  7.769           1.340           1.587   \n",
       "1             2           Denmark  7.600           1.383           1.573   \n",
       "2             3            Norway  7.554           1.488           1.582   \n",
       "\n",
       "   Healthy life expectancy  Freedom to make life choices  Generosity  \\\n",
       "0                    0.986                         0.596       0.153   \n",
       "1                    0.996                         0.592       0.252   \n",
       "2                    1.028                         0.603       0.271   \n",
       "\n",
       "   Perceptions of corruption  \n",
       "0                      0.393  \n",
       "1                      0.410  \n",
       "2                      0.341  "
      ]
     },
     "execution_count": 14,
     "metadata": {},
     "output_type": "execute_result"
    }
   ],
   "source": [
    "happiness_2019.head(3)"
   ]
  },
  {
   "cell_type": "markdown",
   "id": "9a240bd9-db42-48f0-8b91-7ffc163eda39",
   "metadata": {},
   "source": [
    "**Check the shape of the DataFrame**"
   ]
  },
  {
   "cell_type": "code",
   "execution_count": 16,
   "id": "c6121dee-2159-4d87-8a20-6113b6e109dc",
   "metadata": {},
   "outputs": [
    {
     "data": {
      "text/plain": [
       "(156, 9)"
      ]
     },
     "execution_count": 16,
     "metadata": {},
     "output_type": "execute_result"
    }
   ],
   "source": [
    "happiness_2019.shape"
   ]
  },
  {
   "cell_type": "markdown",
   "id": "aa6d02c9-2456-48d5-b8a2-aff08fb3b80c",
   "metadata": {},
   "source": [
    "Indicating that there is information for 156 countries, and each country is represented by a row in the dataset. The dataset has 9 columns, each providing specific information about those countries."
   ]
  },
  {
   "cell_type": "markdown",
   "id": "e692c886-d246-4b82-ad59-1630a97e3f71",
   "metadata": {},
   "source": [
    "**Exploring Data Types**"
   ]
  },
  {
   "cell_type": "code",
   "execution_count": 17,
   "id": "719facb9-db31-4e35-a344-46f250abc63a",
   "metadata": {},
   "outputs": [
    {
     "name": "stdout",
     "output_type": "stream",
     "text": [
      "<class 'pandas.core.frame.DataFrame'>\n",
      "RangeIndex: 156 entries, 0 to 155\n",
      "Data columns (total 9 columns):\n",
      " #   Column                        Non-Null Count  Dtype  \n",
      "---  ------                        --------------  -----  \n",
      " 0   Overall rank                  156 non-null    int64  \n",
      " 1   Country or region             156 non-null    object \n",
      " 2   Score                         156 non-null    float64\n",
      " 3   GDP per capita                156 non-null    float64\n",
      " 4   Social support                156 non-null    float64\n",
      " 5   Healthy life expectancy       156 non-null    float64\n",
      " 6   Freedom to make life choices  156 non-null    float64\n",
      " 7   Generosity                    156 non-null    float64\n",
      " 8   Perceptions of corruption     156 non-null    float64\n",
      "dtypes: float64(7), int64(1), object(1)\n",
      "memory usage: 11.1+ KB\n"
     ]
    }
   ],
   "source": [
    "happiness_2019.info()"
   ]
  },
  {
   "cell_type": "markdown",
   "id": "ba7e547a-24cf-42bc-8f40-25145c74529a",
   "metadata": {},
   "source": [
    "**Investigating null values**"
   ]
  },
  {
   "cell_type": "code",
   "execution_count": 18,
   "id": "17e9ca9d-55f4-4219-bd64-3728384da3d5",
   "metadata": {},
   "outputs": [
    {
     "data": {
      "text/plain": [
       "Overall rank                    0\n",
       "Country or region               0\n",
       "Score                           0\n",
       "GDP per capita                  0\n",
       "Social support                  0\n",
       "Healthy life expectancy         0\n",
       "Freedom to make life choices    0\n",
       "Generosity                      0\n",
       "Perceptions of corruption       0\n",
       "dtype: int64"
      ]
     },
     "execution_count": 18,
     "metadata": {},
     "output_type": "execute_result"
    }
   ],
   "source": [
    "happiness_2019.isnull().sum()"
   ]
  },
  {
   "cell_type": "markdown",
   "id": "c8510a82-7c71-4853-a8dc-233934cef933",
   "metadata": {},
   "source": [
    "## Standarizing datas"
   ]
  },
  {
   "cell_type": "markdown",
   "id": "cab4a218-f4ad-49f4-8383-bbffe3ae045b",
   "metadata": {},
   "source": [
    "During the exploratory analysis, it was observed that all the datasets contain columns with comparable information about the country, rank, happiness, economic indicators, social support, freedom, life expectancy, generosity, and perceptions of corruption. Despite variations in the names of these columns across the datasets, they consistently convey similar information."
   ]
  },
  {
   "cell_type": "code",
   "execution_count": 1,
   "id": "8e97bdaf-c5e7-45e8-acb9-76460a094e59",
   "metadata": {},
   "outputs": [],
   "source": [
    "def rename_columns_15_16(df, year):\n",
    "    df.rename(columns={\n",
    "        'Happiness Score': 'happiness_score',\n",
    "        'Happiness Rank': 'rank',\n",
    "        'Economy (GDP per Capita)': 'gdp_per_capita',\n",
    "        'Family': 'social_support',\n",
    "        'Health (Life Expectancy)': 'life_expectancy',\n",
    "        'Trust (Government Corruption)': 'corruption'\n",
    "    }, inplace=True)\n",
    "    df.columns = map(str.lower, df.columns)\n",
    "    df['year'] = year\n",
    "    return df[['country', 'rank', 'happiness_score', 'gdp_per_capita', 'social_support', 'freedom', 'life_expectancy', 'generosity', 'corruption', 'year']]  "
   ]
  },
  {
   "cell_type": "markdown",
   "id": "8aa5f235-fb96-4542-b890-8932412dc991",
   "metadata": {},
   "source": [
    "Although the datasets from 2015 and 2016 have different quantities of columns, they share a similar structure in column names, facilitating the standardization of names across both datasets."
   ]
  },
  {
   "cell_type": "code",
   "execution_count": 6,
   "id": "9b47d7af-9336-4683-a57b-be9f9f3b7ab3",
   "metadata": {},
   "outputs": [],
   "source": [
    "happiness_2015 = rename_columns_15_16(happiness_2015, 2015)\n",
    "happiness_2016 = rename_columns_15_16(happiness_2016, 2016)"
   ]
  },
  {
   "cell_type": "code",
   "execution_count": 7,
   "id": "466383d6-e99c-41f9-8cb8-6f40382d9b9f",
   "metadata": {},
   "outputs": [],
   "source": [
    "def rename_columns_17(df, year):\n",
    "    df.rename(columns={\n",
    "        'Happiness.Score': 'happiness_score',\n",
    "        'Happiness.Rank': 'rank',\n",
    "        'Economy..GDP.per.Capita.': 'gdp_per_capita',\n",
    "        'Family': 'social_support',\n",
    "        'Health..Life.Expectancy.': 'life_expectancy',\n",
    "        'Trust..Government.Corruption.': 'corruption',\n",
    "    }, inplace=True)\n",
    "    df.columns = map(str.lower, df.columns)\n",
    "    df['year'] = year\n",
    "    return df[['country', 'rank', 'happiness_score', 'gdp_per_capita', 'social_support', 'freedom', 'life_expectancy', 'generosity', 'corruption', 'year']]"
   ]
  },
  {
   "cell_type": "code",
   "execution_count": 8,
   "id": "16f80cf7-337c-4325-86c7-792421f3222e",
   "metadata": {},
   "outputs": [],
   "source": [
    "happiness_2017 = rename_columns_17(happiness_2017, 2017)"
   ]
  },
  {
   "cell_type": "markdown",
   "id": "4bfff65f-53d2-469d-8132-2599acfd3b86",
   "metadata": {},
   "source": [
    "For 2018 and 2019, the datasets share a consistent structure in column names."
   ]
  },
  {
   "cell_type": "code",
   "execution_count": 9,
   "id": "0d5b8624-1f4f-44c3-bc45-f526ee9582c4",
   "metadata": {},
   "outputs": [],
   "source": [
    "def rename_columns_18_19(df, year):\n",
    "    df.rename(columns={\n",
    "        'Overall rank': 'rank',\n",
    "        'Country or region': 'country',\n",
    "        'Score': 'happiness_score',\n",
    "        'GDP per capita': 'gdp_per_capita',\n",
    "        'Social support': 'social_support',\n",
    "        'Healthy life expectancy': 'life_expectancy',\n",
    "        'Perceptions of corruption': 'corruption',\n",
    "        'Freedom to make life choices': 'freedom',\n",
    "        'Generosity': 'generosity'\n",
    "    }, inplace=True)\n",
    "    df['year'] = year\n",
    "    return df  "
   ]
  },
  {
   "cell_type": "code",
   "execution_count": 10,
   "id": "828a009d-a920-4a70-ac18-7cc16e501d87",
   "metadata": {},
   "outputs": [],
   "source": [
    "happiness_2018 = rename_columns_18_19(happiness_2018, 2018)\n",
    "happiness_2019 = rename_columns_18_19(happiness_2019, 2019)"
   ]
  },
  {
   "cell_type": "code",
   "execution_count": 11,
   "id": "bb61d64b-77f4-4f33-9477-be0f4c220067",
   "metadata": {},
   "outputs": [
    {
     "data": {
      "text/html": [
       "<div>\n",
       "<style scoped>\n",
       "    .dataframe tbody tr th:only-of-type {\n",
       "        vertical-align: middle;\n",
       "    }\n",
       "\n",
       "    .dataframe tbody tr th {\n",
       "        vertical-align: top;\n",
       "    }\n",
       "\n",
       "    .dataframe thead th {\n",
       "        text-align: right;\n",
       "    }\n",
       "</style>\n",
       "<table border=\"1\" class=\"dataframe\">\n",
       "  <thead>\n",
       "    <tr style=\"text-align: right;\">\n",
       "      <th></th>\n",
       "      <th>country</th>\n",
       "      <th>rank</th>\n",
       "      <th>happiness_score</th>\n",
       "      <th>gdp_per_capita</th>\n",
       "      <th>social_support</th>\n",
       "      <th>freedom</th>\n",
       "      <th>life_expectancy</th>\n",
       "      <th>generosity</th>\n",
       "      <th>corruption</th>\n",
       "      <th>year</th>\n",
       "    </tr>\n",
       "  </thead>\n",
       "  <tbody>\n",
       "    <tr>\n",
       "      <th>0</th>\n",
       "      <td>Switzerland</td>\n",
       "      <td>1</td>\n",
       "      <td>7.587</td>\n",
       "      <td>1.39651</td>\n",
       "      <td>1.34951</td>\n",
       "      <td>0.66557</td>\n",
       "      <td>0.94143</td>\n",
       "      <td>0.29678</td>\n",
       "      <td>0.41978</td>\n",
       "      <td>2015</td>\n",
       "    </tr>\n",
       "    <tr>\n",
       "      <th>1</th>\n",
       "      <td>Iceland</td>\n",
       "      <td>2</td>\n",
       "      <td>7.561</td>\n",
       "      <td>1.30232</td>\n",
       "      <td>1.40223</td>\n",
       "      <td>0.62877</td>\n",
       "      <td>0.94784</td>\n",
       "      <td>0.43630</td>\n",
       "      <td>0.14145</td>\n",
       "      <td>2015</td>\n",
       "    </tr>\n",
       "    <tr>\n",
       "      <th>2</th>\n",
       "      <td>Denmark</td>\n",
       "      <td>3</td>\n",
       "      <td>7.527</td>\n",
       "      <td>1.32548</td>\n",
       "      <td>1.36058</td>\n",
       "      <td>0.64938</td>\n",
       "      <td>0.87464</td>\n",
       "      <td>0.34139</td>\n",
       "      <td>0.48357</td>\n",
       "      <td>2015</td>\n",
       "    </tr>\n",
       "    <tr>\n",
       "      <th>3</th>\n",
       "      <td>Norway</td>\n",
       "      <td>4</td>\n",
       "      <td>7.522</td>\n",
       "      <td>1.45900</td>\n",
       "      <td>1.33095</td>\n",
       "      <td>0.66973</td>\n",
       "      <td>0.88521</td>\n",
       "      <td>0.34699</td>\n",
       "      <td>0.36503</td>\n",
       "      <td>2015</td>\n",
       "    </tr>\n",
       "    <tr>\n",
       "      <th>4</th>\n",
       "      <td>Canada</td>\n",
       "      <td>5</td>\n",
       "      <td>7.427</td>\n",
       "      <td>1.32629</td>\n",
       "      <td>1.32261</td>\n",
       "      <td>0.63297</td>\n",
       "      <td>0.90563</td>\n",
       "      <td>0.45811</td>\n",
       "      <td>0.32957</td>\n",
       "      <td>2015</td>\n",
       "    </tr>\n",
       "    <tr>\n",
       "      <th>...</th>\n",
       "      <td>...</td>\n",
       "      <td>...</td>\n",
       "      <td>...</td>\n",
       "      <td>...</td>\n",
       "      <td>...</td>\n",
       "      <td>...</td>\n",
       "      <td>...</td>\n",
       "      <td>...</td>\n",
       "      <td>...</td>\n",
       "      <td>...</td>\n",
       "    </tr>\n",
       "    <tr>\n",
       "      <th>777</th>\n",
       "      <td>Rwanda</td>\n",
       "      <td>152</td>\n",
       "      <td>3.334</td>\n",
       "      <td>0.35900</td>\n",
       "      <td>0.71100</td>\n",
       "      <td>0.55500</td>\n",
       "      <td>0.61400</td>\n",
       "      <td>0.21700</td>\n",
       "      <td>0.41100</td>\n",
       "      <td>2019</td>\n",
       "    </tr>\n",
       "    <tr>\n",
       "      <th>778</th>\n",
       "      <td>Tanzania</td>\n",
       "      <td>153</td>\n",
       "      <td>3.231</td>\n",
       "      <td>0.47600</td>\n",
       "      <td>0.88500</td>\n",
       "      <td>0.41700</td>\n",
       "      <td>0.49900</td>\n",
       "      <td>0.27600</td>\n",
       "      <td>0.14700</td>\n",
       "      <td>2019</td>\n",
       "    </tr>\n",
       "    <tr>\n",
       "      <th>779</th>\n",
       "      <td>Afghanistan</td>\n",
       "      <td>154</td>\n",
       "      <td>3.203</td>\n",
       "      <td>0.35000</td>\n",
       "      <td>0.51700</td>\n",
       "      <td>0.00000</td>\n",
       "      <td>0.36100</td>\n",
       "      <td>0.15800</td>\n",
       "      <td>0.02500</td>\n",
       "      <td>2019</td>\n",
       "    </tr>\n",
       "    <tr>\n",
       "      <th>780</th>\n",
       "      <td>Central African Republic</td>\n",
       "      <td>155</td>\n",
       "      <td>3.083</td>\n",
       "      <td>0.02600</td>\n",
       "      <td>0.00000</td>\n",
       "      <td>0.22500</td>\n",
       "      <td>0.10500</td>\n",
       "      <td>0.23500</td>\n",
       "      <td>0.03500</td>\n",
       "      <td>2019</td>\n",
       "    </tr>\n",
       "    <tr>\n",
       "      <th>781</th>\n",
       "      <td>South Sudan</td>\n",
       "      <td>156</td>\n",
       "      <td>2.853</td>\n",
       "      <td>0.30600</td>\n",
       "      <td>0.57500</td>\n",
       "      <td>0.01000</td>\n",
       "      <td>0.29500</td>\n",
       "      <td>0.20200</td>\n",
       "      <td>0.09100</td>\n",
       "      <td>2019</td>\n",
       "    </tr>\n",
       "  </tbody>\n",
       "</table>\n",
       "<p>782 rows × 10 columns</p>\n",
       "</div>"
      ],
      "text/plain": [
       "                      country  rank  happiness_score  gdp_per_capita  \\\n",
       "0                 Switzerland     1            7.587         1.39651   \n",
       "1                     Iceland     2            7.561         1.30232   \n",
       "2                     Denmark     3            7.527         1.32548   \n",
       "3                      Norway     4            7.522         1.45900   \n",
       "4                      Canada     5            7.427         1.32629   \n",
       "..                        ...   ...              ...             ...   \n",
       "777                    Rwanda   152            3.334         0.35900   \n",
       "778                  Tanzania   153            3.231         0.47600   \n",
       "779               Afghanistan   154            3.203         0.35000   \n",
       "780  Central African Republic   155            3.083         0.02600   \n",
       "781               South Sudan   156            2.853         0.30600   \n",
       "\n",
       "     social_support  freedom  life_expectancy  generosity  corruption  year  \n",
       "0           1.34951  0.66557          0.94143     0.29678     0.41978  2015  \n",
       "1           1.40223  0.62877          0.94784     0.43630     0.14145  2015  \n",
       "2           1.36058  0.64938          0.87464     0.34139     0.48357  2015  \n",
       "3           1.33095  0.66973          0.88521     0.34699     0.36503  2015  \n",
       "4           1.32261  0.63297          0.90563     0.45811     0.32957  2015  \n",
       "..              ...      ...              ...         ...         ...   ...  \n",
       "777         0.71100  0.55500          0.61400     0.21700     0.41100  2019  \n",
       "778         0.88500  0.41700          0.49900     0.27600     0.14700  2019  \n",
       "779         0.51700  0.00000          0.36100     0.15800     0.02500  2019  \n",
       "780         0.00000  0.22500          0.10500     0.23500     0.03500  2019  \n",
       "781         0.57500  0.01000          0.29500     0.20200     0.09100  2019  \n",
       "\n",
       "[782 rows x 10 columns]"
      ]
     },
     "execution_count": 11,
     "metadata": {},
     "output_type": "execute_result"
    }
   ],
   "source": [
    "dataframes = [happiness_2015, happiness_2016, happiness_2017, happiness_2018, happiness_2019]\n",
    "happiness_df = pd.concat(dataframes, ignore_index=True)\n",
    "happiness_df"
   ]
  },
  {
   "cell_type": "markdown",
   "id": "a5704086-ba31-471d-b836-8d8cc4d0c2b2",
   "metadata": {},
   "source": [
    "After renaming the datasets, the happiness data from 2015 to 2019 was combined into a single dataframe named `happiness_df`"
   ]
  },
  {
   "cell_type": "markdown",
   "id": "6517a97e-626f-4b48-b656-4390aa042ed2",
   "metadata": {},
   "source": [
    "**Check the shape of the DataFrame**"
   ]
  },
  {
   "cell_type": "code",
   "execution_count": 12,
   "id": "19ea5ba7-43b5-4999-a28f-0bd5245849e9",
   "metadata": {},
   "outputs": [
    {
     "data": {
      "text/plain": [
       "(782, 10)"
      ]
     },
     "execution_count": 12,
     "metadata": {},
     "output_type": "execute_result"
    }
   ],
   "source": [
    "happiness_df.shape"
   ]
  },
  {
   "cell_type": "markdown",
   "id": "0deb0da3-f32e-46b9-9a54-8d03ae646581",
   "metadata": {},
   "source": [
    "The combined dataset, spanning 2015 to 2019, contains information for 782 countries across 10 columns, including country, rank, happiness_score, gdp_per_capita, social_support, freedom, life_expectancy, generosity, corruption, and year."
   ]
  },
  {
   "cell_type": "markdown",
   "id": "974020bf-a31d-4eb4-8e47-e882cfb9cee2",
   "metadata": {},
   "source": [
    "**Investigating null values**"
   ]
  },
  {
   "cell_type": "code",
   "execution_count": 14,
   "id": "79815d3c-c47b-4285-99b6-004b1b66430a",
   "metadata": {},
   "outputs": [
    {
     "data": {
      "text/plain": [
       "country            0\n",
       "rank               0\n",
       "happiness_score    0\n",
       "gdp_per_capita     0\n",
       "social_support     0\n",
       "freedom            0\n",
       "life_expectancy    0\n",
       "generosity         0\n",
       "corruption         1\n",
       "year               0\n",
       "dtype: int64"
      ]
     },
     "execution_count": 14,
     "metadata": {},
     "output_type": "execute_result"
    }
   ],
   "source": [
    "happiness_df.isnull().sum()"
   ]
  },
  {
   "cell_type": "markdown",
   "id": "7d1a79e4-91a8-43e4-b4e6-55eb17c6f373",
   "metadata": {},
   "source": [
    "happiness_df.dropna(inplace=True)"
   ]
  },
  {
   "cell_type": "markdown",
   "id": "d9e3e8bf-da06-481e-bcb2-69af4ae8c1e8",
   "metadata": {},
   "source": [
    "Given that there is only one missing value in the `corruption` column, the decision has been made to remove the corresponding row."
   ]
  },
  {
   "cell_type": "markdown",
   "id": "d6b4c939-3088-4a85-898e-bf3b83ca4c7e",
   "metadata": {},
   "source": [
    "## Column Analysis"
   ]
  },
  {
   "cell_type": "markdown",
   "id": "91b602c7-96a5-4422-827f-c8cfa1a870a9",
   "metadata": {},
   "source": [
    "____________________\n",
    "**score**"
   ]
  },
  {
   "cell_type": "code",
   "execution_count": 16,
   "id": "6e7e4b38-34a2-4ecf-8210-4312dbc54fbe",
   "metadata": {},
   "outputs": [
    {
     "data": {
      "text/plain": [
       "0    7.587\n",
       "1    7.561\n",
       "2    7.527\n",
       "Name: happiness_score, dtype: float64"
      ]
     },
     "execution_count": 16,
     "metadata": {},
     "output_type": "execute_result"
    }
   ],
   "source": [
    "happiness_df['happiness_score'].head(3)"
   ]
  },
  {
   "cell_type": "code",
   "execution_count": 17,
   "id": "8160e897-e20e-43ca-9afd-d158e7199f32",
   "metadata": {},
   "outputs": [
    {
     "data": {
      "text/plain": [
       "count    781.000000\n",
       "mean       5.377232\n",
       "std        1.127071\n",
       "min        2.693000\n",
       "25%        4.509000\n",
       "50%        5.321000\n",
       "75%        6.182000\n",
       "max        7.769000\n",
       "Name: happiness_score, dtype: float64"
      ]
     },
     "execution_count": 17,
     "metadata": {},
     "output_type": "execute_result"
    }
   ],
   "source": [
    "happiness_df['happiness_score'].describe()"
   ]
  },
  {
   "cell_type": "code",
   "execution_count": 18,
   "id": "a78e97a3-493d-44bd-b40f-dec69bd7e7cc",
   "metadata": {},
   "outputs": [
    {
     "data": {
      "image/png": "[encoded data removed]",
      "text/plain": [
       "<Figure size 1000x800 with 1 Axes>"
      ]
     },
     "metadata": {},
     "output_type": "display_data"
    }
   ],
   "source": [
    "correlation_matrix = happiness_df.loc[:, ~happiness_df.columns.isin(['country'])].corr()\n",
    "plt.figure(figsize=(10, 8))\n",
    "sns.heatmap(correlation_matrix, annot=True,fmt=\".2f\", cbar=False)\n",
    "plt.title(\"Correlation Matrix\")\n",
    "plt.show()"
   ]
  },
  {
   "cell_type": "markdown",
   "id": "5d64f648-8946-476e-86ab-184b7af885d5",
   "metadata": {},
   "source": [
    "In selecting variables for the model, consideration was given to their correlation with `happiness_score` favoring those with an absolute correlation greater than 0.5:\n",
    "\n",
    "- 0.79 for `gdp_per_capita`\n",
    "- 0.65 for `social_support`\n",
    "- 0.55 for `freedom`\n",
    "- 0.74 for `life_expectancy`\n",
    "\n",
    "Despite `rank` showing a high correlation of -0.99, it was excluded as it is another representation of `happiness_score` Consequently, `rank`, `year`, `generosity`, and `corruption` were removed from the dataset. This ensures a focus on variables that provide unique information to the model."
   ]
  },
  {
   "cell_type": "code",
   "execution_count": 19,
   "id": "361fbbbd-f2f1-4f78-8aee-af1f0608ba10",
   "metadata": {},
   "outputs": [],
   "source": [
    "columns_to_drop = ['rank','year','generosity','corruption']\n",
    "happiness_df.drop(columns=columns_to_drop, inplace=True)"
   ]
  },
  {
   "cell_type": "markdown",
   "id": "5f684bcd-7968-4de1-9c0c-5008d11266b7",
   "metadata": {},
   "source": [
    "## Regression Model"
   ]
  },
  {
   "cell_type": "code",
   "execution_count": 20,
   "id": "203d89d6-5631-49f8-986c-718de90048a1",
   "metadata": {},
   "outputs": [],
   "source": [
    "from sklearn.model_selection import train_test_split\n",
    "from sklearn.ensemble import RandomForestRegressor\n",
    "import joblib"
   ]
  },
  {
   "cell_type": "markdown",
   "id": "fe3d1d4a-a608-4654-aa31-202cdf4e42bd",
   "metadata": {},
   "source": [
    "The predictive model will be constructed using RandomForestRegressor to forecast the `happiness_score`."
   ]
  },
  {
   "cell_type": "markdown",
   "id": "eb8cf56c-88d0-41e9-adc9-432d147113bc",
   "metadata": {},
   "source": [
    "**Selecting features**"
   ]
  },
  {
   "cell_type": "code",
   "execution_count": 21,
   "id": "bb668e62-a00e-4262-a69e-a964cbade882",
   "metadata": {},
   "outputs": [
    {
     "data": {
      "text/html": [
       "<div>\n",
       "<style scoped>\n",
       "    .dataframe tbody tr th:only-of-type {\n",
       "        vertical-align: middle;\n",
       "    }\n",
       "\n",
       "    .dataframe tbody tr th {\n",
       "        vertical-align: top;\n",
       "    }\n",
       "\n",
       "    .dataframe thead th {\n",
       "        text-align: right;\n",
       "    }\n",
       "</style>\n",
       "<table border=\"1\" class=\"dataframe\">\n",
       "  <thead>\n",
       "    <tr style=\"text-align: right;\">\n",
       "      <th></th>\n",
       "      <th>gdp_per_capita</th>\n",
       "      <th>social_support</th>\n",
       "      <th>freedom</th>\n",
       "      <th>life_expectancy</th>\n",
       "      <th>happiness_score</th>\n",
       "    </tr>\n",
       "  </thead>\n",
       "  <tbody>\n",
       "    <tr>\n",
       "      <th>0</th>\n",
       "      <td>1.39651</td>\n",
       "      <td>1.34951</td>\n",
       "      <td>0.66557</td>\n",
       "      <td>0.94143</td>\n",
       "      <td>7.587</td>\n",
       "    </tr>\n",
       "    <tr>\n",
       "      <th>1</th>\n",
       "      <td>1.30232</td>\n",
       "      <td>1.40223</td>\n",
       "      <td>0.62877</td>\n",
       "      <td>0.94784</td>\n",
       "      <td>7.561</td>\n",
       "    </tr>\n",
       "    <tr>\n",
       "      <th>2</th>\n",
       "      <td>1.32548</td>\n",
       "      <td>1.36058</td>\n",
       "      <td>0.64938</td>\n",
       "      <td>0.87464</td>\n",
       "      <td>7.527</td>\n",
       "    </tr>\n",
       "    <tr>\n",
       "      <th>3</th>\n",
       "      <td>1.45900</td>\n",
       "      <td>1.33095</td>\n",
       "      <td>0.66973</td>\n",
       "      <td>0.88521</td>\n",
       "      <td>7.522</td>\n",
       "    </tr>\n",
       "    <tr>\n",
       "      <th>4</th>\n",
       "      <td>1.32629</td>\n",
       "      <td>1.32261</td>\n",
       "      <td>0.63297</td>\n",
       "      <td>0.90563</td>\n",
       "      <td>7.427</td>\n",
       "    </tr>\n",
       "    <tr>\n",
       "      <th>...</th>\n",
       "      <td>...</td>\n",
       "      <td>...</td>\n",
       "      <td>...</td>\n",
       "      <td>...</td>\n",
       "      <td>...</td>\n",
       "    </tr>\n",
       "    <tr>\n",
       "      <th>777</th>\n",
       "      <td>0.35900</td>\n",
       "      <td>0.71100</td>\n",
       "      <td>0.55500</td>\n",
       "      <td>0.61400</td>\n",
       "      <td>3.334</td>\n",
       "    </tr>\n",
       "    <tr>\n",
       "      <th>778</th>\n",
       "      <td>0.47600</td>\n",
       "      <td>0.88500</td>\n",
       "      <td>0.41700</td>\n",
       "      <td>0.49900</td>\n",
       "      <td>3.231</td>\n",
       "    </tr>\n",
       "    <tr>\n",
       "      <th>779</th>\n",
       "      <td>0.35000</td>\n",
       "      <td>0.51700</td>\n",
       "      <td>0.00000</td>\n",
       "      <td>0.36100</td>\n",
       "      <td>3.203</td>\n",
       "    </tr>\n",
       "    <tr>\n",
       "      <th>780</th>\n",
       "      <td>0.02600</td>\n",
       "      <td>0.00000</td>\n",
       "      <td>0.22500</td>\n",
       "      <td>0.10500</td>\n",
       "      <td>3.083</td>\n",
       "    </tr>\n",
       "    <tr>\n",
       "      <th>781</th>\n",
       "      <td>0.30600</td>\n",
       "      <td>0.57500</td>\n",
       "      <td>0.01000</td>\n",
       "      <td>0.29500</td>\n",
       "      <td>2.853</td>\n",
       "    </tr>\n",
       "  </tbody>\n",
       "</table>\n",
       "<p>781 rows × 5 columns</p>\n",
       "</div>"
      ],
      "text/plain": [
       "     gdp_per_capita  social_support  freedom  life_expectancy  happiness_score\n",
       "0           1.39651         1.34951  0.66557          0.94143            7.587\n",
       "1           1.30232         1.40223  0.62877          0.94784            7.561\n",
       "2           1.32548         1.36058  0.64938          0.87464            7.527\n",
       "3           1.45900         1.33095  0.66973          0.88521            7.522\n",
       "4           1.32629         1.32261  0.63297          0.90563            7.427\n",
       "..              ...             ...      ...              ...              ...\n",
       "777         0.35900         0.71100  0.55500          0.61400            3.334\n",
       "778         0.47600         0.88500  0.41700          0.49900            3.231\n",
       "779         0.35000         0.51700  0.00000          0.36100            3.203\n",
       "780         0.02600         0.00000  0.22500          0.10500            3.083\n",
       "781         0.30600         0.57500  0.01000          0.29500            2.853\n",
       "\n",
       "[781 rows x 5 columns]"
      ]
     },
     "execution_count": 21,
     "metadata": {},
     "output_type": "execute_result"
    }
   ],
   "source": [
    "selected_features = [\n",
    "    \"gdp_per_capita\",\n",
    "    \"social_support\",\n",
    "    \"freedom\",\n",
    "    \"life_expectancy\",\n",
    "    \"happiness_score\",\n",
    "]\n",
    "\n",
    "happiness_analysis = happiness_df[selected_features]\n",
    "happiness_analysis"
   ]
  },
  {
   "cell_type": "markdown",
   "id": "93463d10-802e-4c96-9552-5acd36d76c42",
   "metadata": {},
   "source": [
    "**Splitting the dataset**"
   ]
  },
  {
   "cell_type": "code",
   "execution_count": 22,
   "id": "fb276230-9c5c-4118-8f7d-dbc091731152",
   "metadata": {},
   "outputs": [],
   "source": [
    "y = happiness_analysis[\"happiness_score\"]\n",
    "X = happiness_analysis.drop(columns=[\"happiness_score\"])\n",
    "X_train, X_test, y_train, y_test = train_test_split(X, y, test_size=0.3, random_state=1)"
   ]
  },
  {
   "cell_type": "code",
   "execution_count": 23,
   "id": "45af22c4-a039-442e-b829-2beb4ca5da7f",
   "metadata": {},
   "outputs": [
    {
     "data": {
      "text/html": [
       "<div>\n",
       "<style scoped>\n",
       "    .dataframe tbody tr th:only-of-type {\n",
       "        vertical-align: middle;\n",
       "    }\n",
       "\n",
       "    .dataframe tbody tr th {\n",
       "        vertical-align: top;\n",
       "    }\n",
       "\n",
       "    .dataframe thead th {\n",
       "        text-align: right;\n",
       "    }\n",
       "</style>\n",
       "<table border=\"1\" class=\"dataframe\">\n",
       "  <thead>\n",
       "    <tr style=\"text-align: right;\">\n",
       "      <th></th>\n",
       "      <th>country</th>\n",
       "      <th>happiness_score</th>\n",
       "      <th>gdp_per_capita</th>\n",
       "      <th>social_support</th>\n",
       "      <th>freedom</th>\n",
       "      <th>life_expectancy</th>\n",
       "    </tr>\n",
       "  </thead>\n",
       "  <tbody>\n",
       "    <tr>\n",
       "      <th>647</th>\n",
       "      <td>Malta</td>\n",
       "      <td>6.726</td>\n",
       "      <td>1.300000</td>\n",
       "      <td>1.520000</td>\n",
       "      <td>0.564000</td>\n",
       "      <td>0.999000</td>\n",
       "    </tr>\n",
       "    <tr>\n",
       "      <th>265</th>\n",
       "      <td>Palestinian Territories</td>\n",
       "      <td>4.754</td>\n",
       "      <td>0.670240</td>\n",
       "      <td>0.716290</td>\n",
       "      <td>0.177440</td>\n",
       "      <td>0.568440</td>\n",
       "    </tr>\n",
       "    <tr>\n",
       "      <th>111</th>\n",
       "      <td>Iraq</td>\n",
       "      <td>4.677</td>\n",
       "      <td>0.985490</td>\n",
       "      <td>0.818890</td>\n",
       "      <td>0.000000</td>\n",
       "      <td>0.602370</td>\n",
       "    </tr>\n",
       "    <tr>\n",
       "      <th>301</th>\n",
       "      <td>Chad</td>\n",
       "      <td>3.763</td>\n",
       "      <td>0.422140</td>\n",
       "      <td>0.631780</td>\n",
       "      <td>0.128070</td>\n",
       "      <td>0.038240</td>\n",
       "    </tr>\n",
       "    <tr>\n",
       "      <th>339</th>\n",
       "      <td>Mexico</td>\n",
       "      <td>6.578</td>\n",
       "      <td>1.153184</td>\n",
       "      <td>1.210862</td>\n",
       "      <td>0.412730</td>\n",
       "      <td>0.709979</td>\n",
       "    </tr>\n",
       "    <tr>\n",
       "      <th>...</th>\n",
       "      <td>...</td>\n",
       "      <td>...</td>\n",
       "      <td>...</td>\n",
       "      <td>...</td>\n",
       "      <td>...</td>\n",
       "      <td>...</td>\n",
       "    </tr>\n",
       "    <tr>\n",
       "      <th>542</th>\n",
       "      <td>Belarus</td>\n",
       "      <td>5.483</td>\n",
       "      <td>1.039000</td>\n",
       "      <td>1.498000</td>\n",
       "      <td>0.307000</td>\n",
       "      <td>0.700000</td>\n",
       "    </tr>\n",
       "    <tr>\n",
       "      <th>370</th>\n",
       "      <td>Moldova</td>\n",
       "      <td>5.838</td>\n",
       "      <td>0.728871</td>\n",
       "      <td>1.251826</td>\n",
       "      <td>0.240729</td>\n",
       "      <td>0.589465</td>\n",
       "    </tr>\n",
       "    <tr>\n",
       "      <th>248</th>\n",
       "      <td>Hungary</td>\n",
       "      <td>5.145</td>\n",
       "      <td>1.241420</td>\n",
       "      <td>0.931640</td>\n",
       "      <td>0.197700</td>\n",
       "      <td>0.676080</td>\n",
       "    </tr>\n",
       "    <tr>\n",
       "      <th>447</th>\n",
       "      <td>Uganda</td>\n",
       "      <td>4.081</td>\n",
       "      <td>0.381431</td>\n",
       "      <td>1.129828</td>\n",
       "      <td>0.443186</td>\n",
       "      <td>0.217633</td>\n",
       "    </tr>\n",
       "    <tr>\n",
       "      <th>660</th>\n",
       "      <td>El Salvador</td>\n",
       "      <td>6.253</td>\n",
       "      <td>0.794000</td>\n",
       "      <td>1.242000</td>\n",
       "      <td>0.430000</td>\n",
       "      <td>0.789000</td>\n",
       "    </tr>\n",
       "  </tbody>\n",
       "</table>\n",
       "<p>235 rows × 6 columns</p>\n",
       "</div>"
      ],
      "text/plain": [
       "                     country  happiness_score  gdp_per_capita  social_support  \\\n",
       "647                    Malta            6.726        1.300000        1.520000   \n",
       "265  Palestinian Territories            4.754        0.670240        0.716290   \n",
       "111                     Iraq            4.677        0.985490        0.818890   \n",
       "301                     Chad            3.763        0.422140        0.631780   \n",
       "339                   Mexico            6.578        1.153184        1.210862   \n",
       "..                       ...              ...             ...             ...   \n",
       "542                  Belarus            5.483        1.039000        1.498000   \n",
       "370                  Moldova            5.838        0.728871        1.251826   \n",
       "248                  Hungary            5.145        1.241420        0.931640   \n",
       "447                   Uganda            4.081        0.381431        1.129828   \n",
       "660              El Salvador            6.253        0.794000        1.242000   \n",
       "\n",
       "      freedom  life_expectancy  \n",
       "647  0.564000         0.999000  \n",
       "265  0.177440         0.568440  \n",
       "111  0.000000         0.602370  \n",
       "301  0.128070         0.038240  \n",
       "339  0.412730         0.709979  \n",
       "..        ...              ...  \n",
       "542  0.307000         0.700000  \n",
       "370  0.240729         0.589465  \n",
       "248  0.197700         0.676080  \n",
       "447  0.443186         0.217633  \n",
       "660  0.430000         0.789000  \n",
       "\n",
       "[235 rows x 6 columns]"
      ]
     },
     "execution_count": 23,
     "metadata": {},
     "output_type": "execute_result"
    }
   ],
   "source": [
    "test_data = happiness_df.loc[y_test.index]\n",
    "test_data"
   ]
  },
  {
   "cell_type": "markdown",
   "id": "d25c4644-0a26-45b9-9195-7b7007aab9bc",
   "metadata": {},
   "source": [
    "**Training the model**"
   ]
  },
  {
   "cell_type": "code",
   "execution_count": 24,
   "id": "0c352de9-5bfb-42e9-9262-1001385775be",
   "metadata": {},
   "outputs": [
    {
     "data": {
      "text/html": [
       "<style>#sk-container-id-1 {color: black;}#sk-container-id-1 pre{padding: 0;}#sk-container-id-1 div.sk-toggleable {background-color: white;}#sk-container-id-1 label.sk-toggleable__label {cursor: pointer;display: block;width: 100%;margin-bottom: 0;padding: 0.3em;box-sizing: border-box;text-align: center;}#sk-container-id-1 label.sk-toggleable__label-arrow:before {content: \"▸\";float: left;margin-right: 0.25em;color: #696969;}#sk-container-id-1 label.sk-toggleable__label-arrow:hover:before {color: black;}#sk-container-id-1 div.sk-estimator:hover label.sk-toggleable__label-arrow:before {color: black;}#sk-container-id-1 div.sk-toggleable__content {max-height: 0;max-width: 0;overflow: hidden;text-align: left;background-color: #f0f8ff;}#sk-container-id-1 div.sk-toggleable__content pre {margin: 0.2em;color: black;border-radius: 0.25em;background-color: #f0f8ff;}#sk-container-id-1 input.sk-toggleable__control:checked~div.sk-toggleable__content {max-height: 200px;max-width: 100%;overflow: auto;}#sk-container-id-1 input.sk-toggleable__control:checked~label.sk-toggleable__label-arrow:before {content: \"▾\";}#sk-container-id-1 div.sk-estimator input.sk-toggleable__control:checked~label.sk-toggleable__label {background-color: #d4ebff;}#sk-container-id-1 div.sk-label input.sk-toggleable__control:checked~label.sk-toggleable__label {background-color: #d4ebff;}#sk-container-id-1 input.sk-hidden--visually {border: 0;clip: rect(1px 1px 1px 1px);clip: rect(1px, 1px, 1px, 1px);height: 1px;margin: -1px;overflow: hidden;padding: 0;position: absolute;width: 1px;}#sk-container-id-1 div.sk-estimator {font-family: monospace;background-color: #f0f8ff;border: 1px dotted black;border-radius: 0.25em;box-sizing: border-box;margin-bottom: 0.5em;}#sk-container-id-1 div.sk-estimator:hover {background-color: #d4ebff;}#sk-container-id-1 div.sk-parallel-item::after {content: \"\";width: 100%;border-bottom: 1px solid gray;flex-grow: 1;}#sk-container-id-1 div.sk-label:hover label.sk-toggleable__label {background-color: #d4ebff;}#sk-container-id-1 div.sk-serial::before {content: \"\";position: absolute;border-left: 1px solid gray;box-sizing: border-box;top: 0;bottom: 0;left: 50%;z-index: 0;}#sk-container-id-1 div.sk-serial {display: flex;flex-direction: column;align-items: center;background-color: white;padding-right: 0.2em;padding-left: 0.2em;position: relative;}#sk-container-id-1 div.sk-item {position: relative;z-index: 1;}#sk-container-id-1 div.sk-parallel {display: flex;align-items: stretch;justify-content: center;background-color: white;position: relative;}#sk-container-id-1 div.sk-item::before, #sk-container-id-1 div.sk-parallel-item::before {content: \"\";position: absolute;border-left: 1px solid gray;box-sizing: border-box;top: 0;bottom: 0;left: 50%;z-index: -1;}#sk-container-id-1 div.sk-parallel-item {display: flex;flex-direction: column;z-index: 1;position: relative;background-color: white;}#sk-container-id-1 div.sk-parallel-item:first-child::after {align-self: flex-end;width: 50%;}#sk-container-id-1 div.sk-parallel-item:last-child::after {align-self: flex-start;width: 50%;}#sk-container-id-1 div.sk-parallel-item:only-child::after {width: 0;}#sk-container-id-1 div.sk-dashed-wrapped {border: 1px dashed gray;margin: 0 0.4em 0.5em 0.4em;box-sizing: border-box;padding-bottom: 0.4em;background-color: white;}#sk-container-id-1 div.sk-label label {font-family: monospace;font-weight: bold;display: inline-block;line-height: 1.2em;}#sk-container-id-1 div.sk-label-container {text-align: center;}#sk-container-id-1 div.sk-container {/* jupyter's `normalize.less` sets `[hidden] { display: none; }` but bootstrap.min.css set `[hidden] { display: none !important; }` so we also need the `!important` here to be able to override the default hidden behavior on the sphinx rendered scikit-learn.org. See: https://github.com/scikit-learn/scikit-learn/issues/21755 */display: inline-block !important;position: relative;}#sk-container-id-1 div.sk-text-repr-fallback {display: none;}</style><div id=\"sk-container-id-1\" class=\"sk-top-container\"><div class=\"sk-text-repr-fallback\"><pre>RandomForestRegressor(random_state=0)</pre><b>In a Jupyter environment, please rerun this cell to show the HTML representation or trust the notebook. <br />On GitHub, the HTML representation is unable to render, please try loading this page with nbviewer.org.</b></div><div class=\"sk-container\" hidden><div class=\"sk-item\"><div class=\"sk-estimator sk-toggleable\"><input class=\"sk-toggleable__control sk-hidden--visually\" id=\"sk-estimator-id-1\" type=\"checkbox\" checked><label for=\"sk-estimator-id-1\" class=\"sk-toggleable__label sk-toggleable__label-arrow\">RandomForestRegressor</label><div class=\"sk-toggleable__content\"><pre>RandomForestRegressor(random_state=0)</pre></div></div></div></div></div>"
      ],
      "text/plain": [
       "RandomForestRegressor(random_state=0)"
      ]
     },
     "execution_count": 24,
     "metadata": {},
     "output_type": "execute_result"
    }
   ],
   "source": [
    "regressor = RandomForestRegressor(n_estimators=100,\n",
    "                                  random_state=0)\n",
    "regressor.fit(X_train, y_train)"
   ]
  },
  {
   "cell_type": "markdown",
   "id": "c31ae1c3-e05c-427c-bf5d-57d72c065709",
   "metadata": {},
   "source": [
    "**Saving trained model**"
   ]
  },
  {
   "cell_type": "code",
   "execution_count": 25,
   "id": "6d365dec-b18c-4ed0-b0e2-c1123316c06c",
   "metadata": {},
   "outputs": [
    {
     "data": {
      "text/plain": [
       "['../model/random_forest_regressor.pkl']"
      ]
     },
     "execution_count": 25,
     "metadata": {},
     "output_type": "execute_result"
    }
   ],
   "source": [
    "joblib_file = \"../model/random_forest_regressor.pkl\"\n",
    "joblib.dump(regressor, joblib_file)"
   ]
  }
 ],
 "metadata": {
  "kernelspec": {
   "display_name": "Python 3 (ipykernel)",
   "language": "python",
   "name": "python3"
  },
  "language_info": {
   "codemirror_mode": {
    "name": "ipython",
    "version": 3
   },
   "file_extension": ".py",
   "mimetype": "text/x-python",
   "name": "python",
   "nbconvert_exporter": "python",
   "pygments_lexer": "ipython3",
   "version": "3.11.6"
  }
 },
 "nbformat": 4,
 "nbformat_minor": 5
}
